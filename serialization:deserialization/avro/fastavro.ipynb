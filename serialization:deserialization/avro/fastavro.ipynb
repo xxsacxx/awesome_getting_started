{
 "cells": [
  {
   "cell_type": "code",
   "execution_count": 4,
   "metadata": {},
   "outputs": [],
   "source": [
    "from fastavro import writer, parse_schema\n",
    "\n",
    "writer_schema = {\n",
    "    'doc': 'Message parser.',\n",
    "    'name': 'Msgs',\n",
    "    'namespace': 'test',\n",
    "    'type': 'record',\n",
    "    'fields': [\n",
    "        {'name': 'message', 'type': 'string'},\n",
    "        {'name': 'time', 'type': 'long'},\n",
    "        {'name': 'number', 'type': 'long'},\n",
    "    ],\n",
    "}\n",
    "parsed_schema = parse_schema(writer_schema)\n",
    "\n",
    "records = [\n",
    "    {u'message': u'Hello World', u'number': 7777777, u'time': 1433269388},\n",
    "    {u'message': u'Testing_Avro', u'number': 7777777, u'time': 1433270389},\n",
    "    {u'message': u'Starting', u'number': 7777777, u'time': 1433273379},\n",
    "    {u'message': u'Done', u'number': 7777777, u'time': 1433275478},\n",
    "]\n",
    "\n",
    "with open('msgs.avro', 'wb') as out:\n",
    "    writer(out, parsed_schema, records)"
   ]
  },
  {
   "cell_type": "code",
   "execution_count": 9,
   "metadata": {},
   "outputs": [],
   "source": [
    "reader_schema = {\n",
    "    'doc': 'Message parser.',\n",
    "    'name': 'Msgs',\n",
    "    'namespace': 'test',\n",
    "    'type': 'record',\n",
    "    'fields': [\n",
    "        {'name': 'message', 'type': 'string'},\n",
    "        {'name': 'time', 'type': 'long'},\n",
    "        #added 2 more fields\n",
    "        {'name': 'gender', 'type': 'string', \"default\" :\"a\"},\n",
    "        {'name': 'title', 'type': 'string', \"default\" : \"a\"},\n",
    "        \n",
    "        {'name': 'number', 'type': 'long'},\n",
    "        \n",
    "    ],\n",
    "}\n",
    "parsed_reader_schema = parse_schema(reader_schema)\n",
    "records = [\n",
    "    {u'message': u'Hello World', u'number': 7777777, u'time': 1433269388, u'gender': u'M',u'title' : u'engineer'},\n",
    "    {u'message': u'Testing_Avro', u'number': 7777777, u'time': 1433270389, u'gender': u'F',u'title' : u'engineer'},\n",
    "    {u'message': u'Starting', u'number': 7777777, u'time': 1433273379, u'gender': u'M',u'title' : u'Doctor'},\n",
    "    {u'message': u'Done', u'number': 7777777, u'time': 1433275478, u'gender': u'F',u'title' : u'artist'},\n",
    "    #passing data as per older schema\n",
    "    {u'message': u'Starting', u'number': 7777777, u'time': 1433273379},\n",
    "    {u'message': u'Done', u'number': 7777777, u'time': 1433275478},\n",
    "]\n",
    "\n",
    "with open('msgs2.avro', 'wb') as out:\n",
    "    writer(out, parsed_reader_schema, records)"
   ]
  },
  {
   "cell_type": "code",
   "execution_count": 31,
   "metadata": {
    "scrolled": true
   },
   "outputs": [
    {
     "data": {
      "text/plain": [
       "{'__fastavro_parsed': True,\n",
       " 'fields': [{'name': 'message', 'type': 'string'},\n",
       "  {'name': 'time', 'type': 'long'},\n",
       "  {'default': 'a', 'name': 'gender', 'type': 'string'},\n",
       "  {'default': 'a', 'name': 'title', 'type': 'string'},\n",
       "  {'name': 'number', 'type': 'long'}],\n",
       " 'name': 'test.Msgs',\n",
       " 'type': 'record'}"
      ]
     },
     "execution_count": 31,
     "metadata": {},
     "output_type": "execute_result"
    }
   ],
   "source": [
    "parsed_reader_schema"
   ]
  },
  {
   "cell_type": "code",
   "execution_count": 7,
   "metadata": {},
   "outputs": [
    {
     "name": "stdout",
     "output_type": "stream",
     "text": [
      "{u'message': u'Hello World', u'number': 7777777, u'time': 1433269388}\n",
      "<type 'dict'>\n",
      "{u'message': u'Testing_Avro', u'number': 7777777, u'time': 1433270389}\n",
      "<type 'dict'>\n",
      "{u'message': u'Starting', u'number': 7777777, u'time': 1433273379}\n",
      "<type 'dict'>\n",
      "{u'message': u'Done', u'number': 7777777, u'time': 1433275478}\n",
      "<type 'dict'>\n"
     ]
    }
   ],
   "source": [
    "#reading from older schema\n",
    "import fastavro\n",
    "from fastavro import reader\n",
    "with open('msgs.avro', 'rb') as fo:\n",
    "    avro_reader = reader(fo)\n",
    "    for record in avro_reader:\n",
    "        print(record)\n",
    "        print(type(record))"
   ]
  },
  {
   "cell_type": "code",
   "execution_count": 10,
   "metadata": {},
   "outputs": [
    {
     "name": "stdout",
     "output_type": "stream",
     "text": [
      "{u'gender': u'M', u'message': u'Hello World', u'title': u'engineer', u'number': 7777777, u'time': 1433269388}\n",
      "<type 'dict'>\n",
      "{u'gender': u'F', u'message': u'Testing_Avro', u'title': u'engineer', u'number': 7777777, u'time': 1433270389}\n",
      "<type 'dict'>\n",
      "{u'gender': u'M', u'message': u'Starting', u'title': u'Doctor', u'number': 7777777, u'time': 1433273379}\n",
      "<type 'dict'>\n",
      "{u'gender': u'F', u'message': u'Done', u'title': u'artist', u'number': 7777777, u'time': 1433275478}\n",
      "<type 'dict'>\n",
      "{u'gender': u'a', u'message': u'Starting', u'title': u'a', u'number': 7777777, u'time': 1433273379}\n",
      "<type 'dict'>\n",
      "{u'gender': u'a', u'message': u'Done', u'title': u'a', u'number': 7777777, u'time': 1433275478}\n",
      "<type 'dict'>\n"
     ]
    }
   ],
   "source": [
    "#reading from new schema last 2 shows results shows backward compatability \n",
    "import fastavro\n",
    "from fastavro import reader\n",
    "with open('msgs2.avro', 'rb') as f1:\n",
    "    avro_read = reader(f1)\n",
    "    for record in avro_read:\n",
    "        \n",
    "        print(record)\n",
    "        print(type(record))"
   ]
  }
 ],
 "metadata": {
  "kernelspec": {
   "display_name": "Python 2",
   "language": "python",
   "name": "python2"
  },
  "language_info": {
   "codemirror_mode": {
    "name": "ipython",
    "version": 2
   },
   "file_extension": ".py",
   "mimetype": "text/x-python",
   "name": "python",
   "nbconvert_exporter": "python",
   "pygments_lexer": "ipython2",
   "version": "2.7.15"
  }
 },
 "nbformat": 4,
 "nbformat_minor": 2
}
